{
  "nbformat": 4,
  "nbformat_minor": 0,
  "metadata": {
    "colab": {
      "provenance": [],
      "authorship_tag": "ABX9TyMBFzfCP+93TWBO8UakVoj9",
      "include_colab_link": true
    },
    "kernelspec": {
      "name": "python3",
      "display_name": "Python 3"
    },
    "language_info": {
      "name": "python"
    }
  },
  "cells": [
    {
      "cell_type": "markdown",
      "metadata": {
        "id": "view-in-github",
        "colab_type": "text"
      },
      "source": [
        "<a href=\"https://colab.research.google.com/github/juanjobandera95/IABD/blob/SAA/Practica2SAA_py.ipynb\" target=\"_parent\"><img src=\"https://colab.research.google.com/assets/colab-badge.svg\" alt=\"Open In Colab\"/></a>"
      ]
    },
    {
      "cell_type": "code",
      "execution_count": null,
      "metadata": {
        "colab": {
          "base_uri": "https://localhost:8080/"
        },
        "id": "zZ6jowBcsknB",
        "outputId": "2ad07f0b-b1f2-4f92-828f-8341233b8748"
      },
      "outputs": [
        {
          "output_type": "stream",
          "name": "stdout",
          "text": [
            "¡Hola, Mundo!\n"
          ]
        }
      ],
      "source": [
        "def hola_mundo():\n",
        "    print(\"¡Hola, Mundo!\")\n",
        "\n",
        "# Llama a la función para imprimir \"Hola, Mundo\"\n",
        "hola_mundo()"
      ]
    },
    {
      "cell_type": "code",
      "source": [
        "class MiClase:\n",
        "    def saludar(self):\n",
        "        print(\"¡Hola, Mundo!\")\n",
        "\n",
        "# Crear una instancia de la clase\n",
        "objeto = MiClase()\n",
        "\n",
        "# Llamar al método saludar para imprimir \"Hola, Mundo\"\n",
        "objeto.saludar()"
      ],
      "metadata": {
        "colab": {
          "base_uri": "https://localhost:8080/"
        },
        "id": "BDR79lQctZ74",
        "outputId": "5e6ab0d7-e02d-4ea5-dae6-544562e2c6df"
      },
      "execution_count": null,
      "outputs": [
        {
          "output_type": "stream",
          "name": "stdout",
          "text": [
            "¡Hola, Mundo!\n"
          ]
        }
      ]
    }
  ]
}