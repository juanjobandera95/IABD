{
  "nbformat": 4,
  "nbformat_minor": 0,
  "metadata": {
    "colab": {
      "provenance": [],
      "authorship_tag": "ABX9TyNhE3WxpHWxsCYLgHMdszai",
      "include_colab_link": true
    },
    "kernelspec": {
      "name": "python3",
      "display_name": "Python 3"
    },
    "language_info": {
      "name": "python"
    }
  },
  "cells": [
    {
      "cell_type": "markdown",
      "metadata": {
        "id": "view-in-github",
        "colab_type": "text"
      },
      "source": [
        "<a href=\"https://colab.research.google.com/github/juanjobandera95/IABD/blob/MIA/Ejercicios_python.ipynb\" target=\"_parent\"><img src=\"https://colab.research.google.com/assets/colab-badge.svg\" alt=\"Open In Colab\"/></a>"
      ]
    },
    {
      "cell_type": "markdown",
      "source": [
        "# Ejercicio 1: Operaciones Matemáticas Básicas\n",
        "\n",
        "\n",
        "1.    Crea una nueva hoja de Colab.\n",
        "2.       Escribe un programa en Python que realice operaciones matemáticas básicas, como suma, resta, multiplicación y división. Pide al usuario dos números y luego muestra el resultado de cada operación.\n",
        "3. Ejecuta el programa y verifica que las operaciones se realicen correctamente.\n",
        "\n",
        "\n",
        "\n",
        "\n"
      ],
      "metadata": {
        "id": "aMNXHbNHK6uA"
      }
    },
    {
      "cell_type": "code",
      "execution_count": 1,
      "metadata": {
        "colab": {
          "base_uri": "https://localhost:8080/"
        },
        "id": "KhRtSNhDKynh",
        "outputId": "286b562c-5c5c-4fd5-9d85-4355f2fe2527"
      },
      "outputs": [
        {
          "output_type": "stream",
          "name": "stdout",
          "text": [
            "Ingresa el primer número: 2\n",
            "Ingresa el segundo número: 3\n",
            "Suma: 2.0 + 3.0 = 5.0\n",
            "Resta: 2.0 - 3.0 = -1.0\n",
            "Multiplicación: 2.0 * 3.0 = 6.0\n",
            "División: 2.0 / 3.0 = 0.6666666666666666\n"
          ]
        }
      ],
      "source": [
        "# Solicitar al usuario que ingrese dos números\n",
        "num1 = float(input(\"Ingresa el primer número: \"))\n",
        "num2 = float(input(\"Ingresa el segundo número: \"))\n",
        "\n",
        "\n"
      ]
    },
    {
      "cell_type": "code",
      "source": [
        "# Realizar las operaciones matemáticas\n",
        "suma = num1 + num2\n",
        "resta = num1 - num2\n",
        "multiplicacion = num1 * num2\n",
        "\n"
      ],
      "metadata": {
        "id": "XCew4sWpLUqw"
      },
      "execution_count": 2,
      "outputs": []
    },
    {
      "cell_type": "code",
      "source": [
        "# Verificar si el segundo número es cero para evitar una división por cero\n",
        "if num2 == 0:\n",
        "    division = \"No es posible dividir por cero.\"\n",
        "else:\n",
        "    division = num1 / num2\n",
        "\n"
      ],
      "metadata": {
        "id": "GsEQNklkL-ra"
      },
      "execution_count": 3,
      "outputs": []
    },
    {
      "cell_type": "code",
      "source": [
        "# Mostrar los resultados\n",
        "print(f\"Suma: {num1} + {num2} = {suma}\")\n",
        "print(f\"Resta: {num1} - {num2} = {resta}\")\n",
        "print(f\"Multiplicación: {num1} * {num2} = {multiplicacion}\")\n",
        "print(f\"División: {num1} / {num2} = {division}\")"
      ],
      "metadata": {
        "id": "rAEvY5eWMAd_",
        "outputId": "d210c5e5-513c-44d0-a9f6-8c23fc9e3f49",
        "colab": {
          "base_uri": "https://localhost:8080/"
        }
      },
      "execution_count": 4,
      "outputs": [
        {
          "output_type": "stream",
          "name": "stdout",
          "text": [
            "Suma: 2.0 + 3.0 = 5.0\n",
            "Resta: 2.0 - 3.0 = -1.0\n",
            "Multiplicación: 2.0 * 3.0 = 6.0\n",
            "División: 2.0 / 3.0 = 0.6666666666666666\n"
          ]
        }
      ]
    }
  ]
}