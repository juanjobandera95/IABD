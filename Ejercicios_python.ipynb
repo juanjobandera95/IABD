{
  "nbformat": 4,
  "nbformat_minor": 0,
  "metadata": {
    "colab": {
      "provenance": [],
      "authorship_tag": "ABX9TyPA2YtJi2vl9KtRmR6HEdW7"
    },
    "kernelspec": {
      "name": "python3",
      "display_name": "Python 3"
    },
    "language_info": {
      "name": "python"
    }
  },
  "cells": [
    {
      "cell_type": "markdown",
      "source": [
        "# Ejercicio 1: Operaciones Matemáticas Básicas\n",
        "\n",
        "\n",
        "1.    Crea una nueva hoja de Colab.\n",
        "2.       Escribe un programa en Python que realice operaciones matemáticas básicas, como suma, resta, multiplicación y división. Pide al usuario dos números y luego muestra el resultado de cada operación.\n",
        "3. Ejecuta el programa y verifica que las operaciones se realicen correctamente.\n",
        "\n",
        "\n",
        "\n",
        "\n"
      ],
      "metadata": {
        "id": "aMNXHbNHK6uA"
      }
    },
    {
      "cell_type": "code",
      "execution_count": null,
      "metadata": {
        "id": "KhRtSNhDKynh"
      },
      "outputs": [],
      "source": []
    },
    {
      "cell_type": "code",
      "source": [],
      "metadata": {
        "id": "XCew4sWpLUqw"
      },
      "execution_count": null,
      "outputs": []
    }
  ]
}