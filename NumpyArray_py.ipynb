{
  "nbformat": 4,
  "nbformat_minor": 0,
  "metadata": {
    "colab": {
      "provenance": [],
      "authorship_tag": "ABX9TyO0XOf0cDz4LjcHpO3791S7",
      "include_colab_link": true
    },
    "kernelspec": {
      "name": "python3",
      "display_name": "Python 3"
    },
    "language_info": {
      "name": "python"
    }
  },
  "cells": [
    {
      "cell_type": "markdown",
      "metadata": {
        "id": "view-in-github",
        "colab_type": "text"
      },
      "source": [
        "<a href=\"https://colab.research.google.com/github/juanjobandera95/IABD/blob/SAA/NumpyArray_py.ipynb\" target=\"_parent\"><img src=\"https://colab.research.google.com/assets/colab-badge.svg\" alt=\"Open In Colab\"/></a>"
      ]
    },
    {
      "cell_type": "code",
      "execution_count": null,
      "metadata": {
        "colab": {
          "base_uri": "https://localhost:8080/"
        },
        "id": "_4TLKMmUzXH7",
        "outputId": "62761a65-9f68-4a6f-be98-90eaf4f8a6e6"
      },
      "outputs": [
        {
          "output_type": "stream",
          "name": "stdout",
          "text": [
            "Array NumPy\n",
            "[1 2 3 4 5]\n"
          ]
        }
      ],
      "source": [
        "import numpy as np\n",
        "\n",
        "#Crear una array NumPy con marcos con numeros enteros\n",
        "mi_array=np.array([1,2,3,4,5])\n",
        "\n",
        "#Imprimir el array\n",
        "print(\"Array NumPy\")\n",
        "print(mi_array)"
      ]
    },
    {
      "cell_type": "code",
      "source": [
        "#Calcular la suma de los elementos del array\n",
        "suma=np.sum(mi_array)\n",
        "print(\"Suma de los elementos:\",suma)"
      ],
      "metadata": {
        "colab": {
          "base_uri": "https://localhost:8080/"
        },
        "id": "GZjvn9KV0Brt",
        "outputId": "f7404c28-48fd-4fa6-c968-ffa9a5bd1169"
      },
      "execution_count": null,
      "outputs": [
        {
          "output_type": "stream",
          "name": "stdout",
          "text": [
            "Suma de los elementos: 15\n"
          ]
        }
      ]
    },
    {
      "cell_type": "code",
      "source": [
        "# Calcular la media de los elementos del array\n",
        "media = np.mean(mi_array)\n",
        "print(\"Media de los elementos:\", media)"
      ],
      "metadata": {
        "colab": {
          "base_uri": "https://localhost:8080/"
        },
        "id": "SnmeAiBL0Wnx",
        "outputId": "0fdff72c-b726-416c-fdd8-840d07ed125b"
      },
      "execution_count": null,
      "outputs": [
        {
          "output_type": "stream",
          "name": "stdout",
          "text": [
            "Media de los elementos: 3.0\n"
          ]
        }
      ]
    },
    {
      "cell_type": "code",
      "source": [
        "# Calcular el producto de todos los elementos del array\n",
        "producto = np.prod(mi_array)\n",
        "print(\"Producto de los elementos:\", producto)"
      ],
      "metadata": {
        "colab": {
          "base_uri": "https://localhost:8080/"
        },
        "id": "y_CHSIIi0c2j",
        "outputId": "58b2a2f5-9779-4b6e-9ca9-f894337d484a"
      },
      "execution_count": null,
      "outputs": [
        {
          "output_type": "stream",
          "name": "stdout",
          "text": [
            "Producto de los elementos: 120\n"
          ]
        }
      ]
    },
    {
      "cell_type": "code",
      "source": [
        " #Crear un nuevo array con elementos elevados al cuadrado\n",
        "array_cuadrado = np.square(mi_array)\n",
        "print(\"Array con elementos al cuadrado:\")\n",
        "print(array_cuadrado)"
      ],
      "metadata": {
        "id": "qleFeOgP0jFx",
        "outputId": "a1a6b030-7277-4f68-a0ef-85fee41eb521",
        "colab": {
          "base_uri": "https://localhost:8080/"
        }
      },
      "execution_count": null,
      "outputs": [
        {
          "output_type": "stream",
          "name": "stdout",
          "text": [
            "Array con elementos al cuadrado:\n",
            "[ 1  4  9 16 25]\n"
          ]
        }
      ]
    }
  ]
}