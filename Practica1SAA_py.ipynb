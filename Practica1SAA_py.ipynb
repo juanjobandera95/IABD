{
  "nbformat": 4,
  "nbformat_minor": 0,
  "metadata": {
    "colab": {
      "provenance": [],
      "authorship_tag": "ABX9TyMcvO8C6HNK7/L/fYZ5/pf+",
      "include_colab_link": true
    },
    "kernelspec": {
      "name": "python3",
      "display_name": "Python 3"
    },
    "language_info": {
      "name": "python"
    }
  },
  "cells": [
    {
      "cell_type": "markdown",
      "metadata": {
        "id": "view-in-github",
        "colab_type": "text"
      },
      "source": [
        "<a href=\"https://colab.research.google.com/github/juanjobandera95/IABD/blob/SAA/Practica1SAA_py.ipynb\" target=\"_parent\"><img src=\"https://colab.research.google.com/assets/colab-badge.svg\" alt=\"Open In Colab\"/></a>"
      ]
    },
    {
      "cell_type": "markdown",
      "source": [
        "#Mi documento"
      ],
      "metadata": {
        "id": "bcw4B044ecbW"
      }
    },
    {
      "cell_type": "code",
      "source": [
        "print(\"HOLA MUNDO\")"
      ],
      "metadata": {
        "colab": {
          "base_uri": "https://localhost:8080/"
        },
        "id": "48CeK4nlh1Ja",
        "outputId": "6dc46f79-d63e-4f7f-d723-4d593dd432dd"
      },
      "execution_count": null,
      "outputs": [
        {
          "output_type": "stream",
          "name": "stdout",
          "text": [
            "HOLA MUNDO\n"
          ]
        }
      ]
    },
    {
      "cell_type": "markdown",
      "source": [
        "\n",
        "- Elemento 1\n",
        "- Elemento 2\n",
        "- Elemento 3\n",
        "\n",
        "\n",
        "\n"
      ],
      "metadata": {
        "id": "Wk9NWIQ1jcdG"
      }
    },
    {
      "cell_type": "code",
      "source": [
        "my_list=list()\n",
        "my_list=[\"Elemento1\",\"Elemento2\",\"Elemento3\"]\n",
        "print(my_list)"
      ],
      "metadata": {
        "colab": {
          "base_uri": "https://localhost:8080/"
        },
        "id": "QpDdF-3rjmR4",
        "outputId": "2625a545-9ca1-400a-a17e-56328e835e0a"
      },
      "execution_count": null,
      "outputs": [
        {
          "output_type": "stream",
          "name": "stdout",
          "text": [
            "['Elemento1', 'Elemento2', 'Elemento3']\n"
          ]
        }
      ]
    },
    {
      "cell_type": "markdown",
      "source": [
        "##Introducción  a markdown\n",
        "\n"
      ],
      "metadata": {
        "id": "gkzBXbZ-rAVi"
      }
    },
    {
      "cell_type": "markdown",
      "source": [
        "- Elemento A\n",
        "- Elemento B"
      ],
      "metadata": {
        "id": "wFTltE6-rSMs"
      }
    },
    {
      "cell_type": "markdown",
      "source": [
        "[Texto de enlace](URL)"
      ],
      "metadata": {
        "id": "BX0HOJTrra1S"
      }
    },
    {
      "cell_type": "markdown",
      "source": [
        "**negrita** *cursiva*\n",
        "\n"
      ],
      "metadata": {
        "id": "a0_TAutEr3JK"
      }
    },
    {
      "cell_type": "markdown",
      "source": [],
      "metadata": {
        "id": "iA03n7yEtfx8"
      }
    }
  ]
}